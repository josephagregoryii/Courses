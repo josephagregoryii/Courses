{
 "cells": [
  {
   "cell_type": "code",
   "execution_count": 2,
   "metadata": {},
   "outputs": [],
   "source": [
    "import numpy as np\n",
    "import random"
   ]
  },
  {
   "cell_type": "code",
   "execution_count": 3,
   "metadata": {
    "collapsed": true
   },
   "outputs": [],
   "source": [
    "logging = False\n",
    "\n",
    "def log(message):\n",
    "    if logging:\n",
    "        print(message)"
   ]
  },
  {
   "cell_type": "code",
   "execution_count": 4,
   "metadata": {
    "deletable": false,
    "nbgrader": {
     "checksum": "e65d9e141f72678833aa23eeda28b6ac",
     "grade": true,
     "grade_id": "world",
     "locked": false,
     "points": 15,
     "solution": true
    }
   },
   "outputs": [],
   "source": [
    "import Organism\n",
    "\n",
    "class World(Organism):\n",
    "    def __init__(self, mx, my):\n",
    "        self.maxX = mx\n",
    "        self.maxY = my\n",
    "        self.grid = np.array( [None] * (self.maxX * self.maxY)).reshape(self.maxX,self.maxY)\n",
    "        self.lives = []\n",
    "       \n",
    "    def __repr__(self):\n",
    "        return repr(self.grid)\n",
    "    \n",
    "    def biota(self):\n",
    "        self.lives = []\n",
    "        return list(filter(None,[n for sublist in self.grid for n in sublist]))\n",
    "    \n",
    "    def moveThing(self,coor, newcoor):\n",
    "        self.x,self.y = coor\n",
    "        newx,newy = newcoor\n",
    "        self.grid[newy][newx] = self.grid[self.y][self.x]\n",
    "        self.grid[self.y][self.x] = None\n",
    "        \n",
    "    def addThing(self , athing, coor):\n",
    "        x,y = coor\n",
    "        self.grid[y][x] = athing\n",
    "    \n",
    "    def delThing(self, x, y):\n",
    "        self.grid[y][x] = None\n",
    "        \n",
    "    def lookAtLocation(self,coor):\n",
    "        x,y = coor\n",
    "        return self.grid[y][x]\n",
    "    \n",
    "    def emptyLocation(self,coor):\n",
    "        x,y = coor\n",
    "        return self.grid[y][x] == None\n",
    "        \n",
    "    def clear(self):\n",
    "        self.grid = np.array( [None] * (self.maxX * self.maxY)).reshape(self.maxX,self.maxY)\n",
    "    "
   ]
  },
  {
   "cell_type": "code",
   "execution_count": 5,
   "metadata": {},
   "outputs": [],
   "source": [
    "class Organism():\n",
    "    can_overcrowd = None\n",
    "    breed_interval = None\n",
    "    survive_without_food = None\n",
    "    can_eat = None\n",
    "    \n",
    "    def __init__(self,name, world, coor):\n",
    "        self.name = name\n",
    "        self.world = world\n",
    "        self.curcoor = coor\n",
    "        self.xpos, self.ypos = coor\n",
    "        self.world.addThing(self,coor)\n",
    "        self.adjfish=[]\n",
    "        self.adj=[]\n",
    "        self.breedspan = self.breed_interval\n",
    "        \n",
    "    def __repr__(self):\n",
    "        return repr(self.name)\n",
    "    \n",
    "    def location(self):\n",
    "        return (self.xpos,self.ypos)\n",
    "    \n",
    "    def randomOffset(self):\n",
    "        offsetList = [(-1,1),(0,1),(1,1),\n",
    "                      (-1,0)      ,(1,0),\n",
    "                      (-1,-1),(0,-1),(1,-1)]\n",
    "        randomOffsetIndex = random.randrange(len(offsetList))\n",
    "        randomOffset = offsetList[randomOffsetIndex]\n",
    "        nextx = self.xpos + randomOffset[0]\n",
    "        nexty = self.ypos + randomOffset[1]\n",
    "        coor = (nextx % self.world.maxX ,nexty % self.world.maxY)\n",
    "        return coor\n",
    "            \n",
    "    def adjacent(self):\n",
    "        self.adj=[]\n",
    "        offsetList = [(-1,1),(0,1),(1,1),\n",
    "                      (-1,0)      ,(1,0),\n",
    "                      (-1,-1),(0,-1),(1,-1)]\n",
    "        \n",
    "        for offset in offsetList:\n",
    "            self.coor = ((self.xpos + offset[0])% self.world.maxX,(self.ypos + offset[1])% self.world.maxY)\n",
    "            if(not self.world.emptyLocation(self.coor)):\n",
    "                self.adj.append(self.world.lookAtLocation(self.coor)) \n",
    "    \n",
    "    def reproduce(self):\n",
    "        self.adjacent()\n",
    "        self.a = list(map(lambda x: x.location(), self.adj))\n",
    "        self.breed_interval = self.breed_interval-1\n",
    "        if self.breed_interval == 0:\n",
    "            self.breed_interval = self.breedspan\n",
    "            self.rcoor = self.randomOffset()\n",
    "\n",
    "            while self.rcoor in self.a:\n",
    "                self.rcoor = self.randomOffset()\n",
    "            self.birth(self.rcoor)\n",
    "                               \n",
    "    def overCrowding(self):\n",
    "        self.adjacent()\n",
    "        if self.can_overcrowd != None and len(list(filter(lambda x: x != self,self.adj)))>=self.can_overcrowd:\n",
    "            self.world.delThing(self.xpos, self.ypos)\n",
    "    \n",
    "    def move(self):   \n",
    "        pass\n",
    "        \n",
    "    def live(self):\n",
    "        self.reproduce()\n",
    "        self.overCrowding()"
   ]
  },
  {
   "cell_type": "code",
   "execution_count": 6,
   "metadata": {
    "deletable": false,
    "nbgrader": {
     "checksum": "3ab9549a288942d068326e50e49d4d3e",
     "grade": true,
     "grade_id": "animal",
     "locked": false,
     "points": 10,
     "solution": true
    }
   },
   "outputs": [],
   "source": [
    "class Animal(Organism):\n",
    "    def __init__(self,name, world, coor):\n",
    "        Organism.__init__(self, self.name,world,coor)\n",
    "        self.foodspan = self.survive_without_food \n",
    "    \n",
    "    def eat(self):\n",
    "        self.adjacent()\n",
    "        if self.survive_without_food != None:\n",
    "            if len(list(filter(lambda x: x == self.can_eat,self.adj))) >= 1:    \n",
    "                randomOffsetIndex = random.randrange(len(list(filter(lambda x: x == self.can_eat,self.adj))))\n",
    "                randomOffset = list(filter(lambda x: x == self.can_eat,self.adj))[randomOffsetIndex]\n",
    "                x,y = randomOffset.location()\n",
    "                self.world.delThing(x,y)\n",
    "                self.survive_without_food = self.foodspan\n",
    "\n",
    "            self.survive_without_food = self.survive_without_food-1\n",
    "            if self.survive_without_food == 0:\n",
    "                self.world.delThing(self.xpos, self.ypos)\n",
    "                print(\"eat\")\n",
    "    \n",
    "    def live(self):\n",
    "        self.eat()\n",
    "        self.reproduce()\n",
    "        self.overCrowding()\n",
    "        \n",
    "    def move(self):\n",
    "        self.adjacent()\n",
    "        self.rcoor = self.randomOffset()\n",
    "        self.a = list(map(lambda x: x.location(), self.adj))\n",
    "        while self.rcoor in self.a:\n",
    "            self.rcoor = self.randomOffset()\n",
    "\n",
    "        self.world.moveThing(self.curcoor, self.rcoor)\n",
    "            \n",
    "        self.xpos, self.ypos = self.rcoor\n",
    "        self.curcoor = self.rcoor\n",
    "        print(\"move\")"
   ]
  },
  {
   "cell_type": "code",
   "execution_count": 7,
   "metadata": {
    "collapsed": true
   },
   "outputs": [],
   "source": [
    "class Plant(Organism):\n",
    "    can_overcrowd = 5\n",
    "    breed_interval = 5\n",
    "    def __init__(self, world, coor):\n",
    "        self.name = '🌱'\n",
    "        Organism.__init__(self, self.name,world,coor)\n",
    "        \n",
    "    def birth(self,coor):\n",
    "        childThing = Plant(self.world,coor)\n",
    "    "
   ]
  },
  {
   "cell_type": "code",
   "execution_count": 8,
   "metadata": {
    "collapsed": true
   },
   "outputs": [],
   "source": [
    "class Fish(Animal):\n",
    "    can_overcrowd = 2\n",
    "    survive_without_food = 8\n",
    "    breed_interval = 8\n",
    "    can_eat = Plant\n",
    "    def __init__(self, world, coor):\n",
    "        self.name = '🐟'\n",
    "        Animal.__init__(self, self.name,world,coor)\n",
    "        \n",
    "    def birth(self,coor):\n",
    "            childThing = Fish(self.world,coor)\n",
    "    "
   ]
  },
  {
   "cell_type": "code",
   "execution_count": 9,
   "metadata": {
    "deletable": false,
    "nbgrader": {
     "checksum": "4caa2fe98c36ad7d876cb07eb412314c",
     "grade": true,
     "grade_id": "bear",
     "locked": false,
     "points": 7,
     "solution": true
    }
   },
   "outputs": [],
   "source": [
    "class Bear(Animal):\n",
    "    can_overcrowd = None\n",
    "    survive_without_food = 10\n",
    "    breed_interval = 12\n",
    "    can_eat = Fish\n",
    "    def __init__(self, world, coor):\n",
    "        self.name = '🐻'\n",
    "        Animal.__init__(self, self.name,world,coor)\n",
    "        \n",
    "    def birth(self,coor):\n",
    "            childThing = Bear(self.world,coor)\n",
    "\n",
    "        "
   ]
  },
  {
   "cell_type": "code",
   "execution_count": 10,
   "metadata": {
    "deletable": false,
    "nbgrader": {
     "checksum": "6a1fa83ecd382a94da88d5ff79a91af4",
     "grade": true,
     "grade_id": "wbf",
     "locked": false,
     "points": 5,
     "solution": true
    }
   },
   "outputs": [],
   "source": [
    "def wbf(nrows, ncols, nbears, nfish):\n",
    "    world = World(nrows, ncols)\n",
    "    x = random.randrange(nrows)\n",
    "    y = random.randrange(ncols)\n",
    "    \n",
    "    for n in range(nbears):\n",
    "        while not world.emptyLocation((x,y)):\n",
    "            x = random.randrange(nrows)\n",
    "            y = random.randrange(ncols)\n",
    "        Bear(world,(x,y))\n",
    "        \n",
    "    for n in range(nfish):\n",
    "        while not world.emptyLocation((x,y)):\n",
    "            x = random.randrange(nrows)\n",
    "            y = random.randrange(ncols)\n",
    "        Fish(world,(x,y))\n",
    "    \n",
    "    return world\n",
    "        "
   ]
  },
  {
   "cell_type": "code",
   "execution_count": 11,
   "metadata": {
    "collapsed": true
   },
   "outputs": [],
   "source": [
    "def wbfp(nrows, ncols, nbears, nfish, nplants):\n",
    "    world = World(nrows, ncols)\n",
    "    x = random.randrange(nrows)\n",
    "    y = random.randrange(ncols)\n",
    "    \n",
    "    for n in range(nbears):\n",
    "        while not world.emptyLocation((x,y)):\n",
    "            x = random.randrange(nrows)\n",
    "            y = random.randrange(ncols)\n",
    "        Bear(world,(x,y))\n",
    "        \n",
    "    \n",
    "    for n in range(nfish):\n",
    "        while not world.emptyLocation((x,y)):\n",
    "            x = random.randrange(nrows)\n",
    "            y = random.randrange(ncols)\n",
    "        Fish(world,(x,y))\n",
    "        \n",
    "    for n in range(nplants):\n",
    "        while not world.emptyLocation((x,y)):\n",
    "            x = random.randrange(nrows)\n",
    "            y = random.randrange(ncols)\n",
    "        Plant(world,(x,y))\n",
    "    \n",
    "    return world\n",
    "        "
   ]
  },
  {
   "cell_type": "code",
   "execution_count": 12,
   "metadata": {
    "collapsed": true
   },
   "outputs": [],
   "source": [
    "def step_system(world):\n",
    "    for x in world.biota():\n",
    "        x.live()\n",
    "    for x in world.biota():\n",
    "        x.move()"
   ]
  },
  {
   "cell_type": "code",
   "execution_count": 13,
   "metadata": {
    "deletable": false,
    "nbgrader": {
     "checksum": "986898dea06ca2d2febeb3ffb1074ab3",
     "grade": true,
     "grade_id": "animal_doc",
     "locked": false,
     "points": 10,
     "solution": true
    },
    "scrolled": false
   },
   "outputs": [
    {
     "data": {
      "text/plain": [
       "array([['🌱', None, None, None, None, '🐟', '🌱', None, None, '🌱'],\n",
       "       [None, '🌱', None, None, '🌱', None, None, '🐟', None, None],\n",
       "       ['🌱', None, None, '🌱', None, None, None, '🌱', '🌱', None],\n",
       "       ['🌱', None, None, None, None, None, None, None, None, None],\n",
       "       [None, None, None, '🐟', '🐟', None, None, None, None, None],\n",
       "       [None, None, None, None, None, '🌱', None, None, '🌱', None],\n",
       "       ['🌱', '🐻', None, None, None, None, None, None, None, '🐻'],\n",
       "       [None, None, None, '🌱', None, '🐻', None, None, '🌱', None],\n",
       "       [None, None, '🌱', None, None, '🌱', '🌱', '🌱', '🌱', None],\n",
       "       [None, None, None, None, None, None, None, None, '🐟', None]], dtype=object)"
      ]
     },
     "execution_count": 13,
     "metadata": {},
     "output_type": "execute_result"
    }
   ],
   "source": [
    "w = wbfp(10,10,3,5,20)\n",
    "w"
   ]
  },
  {
   "cell_type": "code",
   "execution_count": 16,
   "metadata": {},
   "outputs": [
    {
     "data": {
      "text/plain": [
       "array([[None, None, None, None, None, None, None, None, None, None],\n",
       "       [None, None, None, None, None, None, None, None, None, None],\n",
       "       [None, None, None, None, None, None, None, None, None, None],\n",
       "       [None, None, None, None, None, None, None, None, None, None],\n",
       "       [None, None, None, None, None, '🌱', '🌱', None, None, None],\n",
       "       [None, None, None, None, '🌱', '🐻', '🌱', None, None, None],\n",
       "       [None, None, None, None, '🌱', '🌱', '🌱', None, None, None],\n",
       "       [None, None, None, None, None, None, None, None, None, None],\n",
       "       [None, None, None, None, None, None, None, None, None, None],\n",
       "       [None, None, None, None, None, None, None, None, None, None]], dtype=object)"
      ]
     },
     "execution_count": 16,
     "metadata": {},
     "output_type": "execute_result"
    }
   ],
   "source": [
    "w = World(10,10)\n",
    "f = Bear(w,(5,5))\n",
    "f2 = Plant(w,(6,5))\n",
    "f3 = Plant(w,(5,6))\n",
    "f4 = Plant(w,(4,5))\n",
    "f5 = Plant(w,(5,4))\n",
    "f6 =Plant(w,(6,4))\n",
    "f7 = Plant(w,(4,6))\n",
    "f8 =Plant(w,(6,6))\n",
    "\n",
    "w"
   ]
  },
  {
   "cell_type": "code",
   "execution_count": 17,
   "metadata": {
    "deletable": false,
    "nbgrader": {
     "checksum": "01f3afaf338295648a9e34f9ecbb2a59",
     "grade": true,
     "grade_id": "world_doc",
     "locked": false,
     "points": 5,
     "solution": true
    }
   },
   "outputs": [
    {
     "name": "stdout",
     "output_type": "stream",
     "text": [
      "move\n"
     ]
    },
    {
     "data": {
      "text/plain": [
       "array([[None, None, None, None, None, None, None, None, None, None],\n",
       "       [None, None, None, None, None, None, None, None, None, None],\n",
       "       [None, None, None, None, None, None, None, None, None, None],\n",
       "       [None, None, None, None, None, None, None, None, None, None],\n",
       "       [None, None, None, None, '🐻', '🌱', '🌱', None, None, None],\n",
       "       [None, None, None, None, '🌱', None, None, None, None, None],\n",
       "       [None, None, None, None, '🌱', '🌱', '🌱', None, None, None],\n",
       "       [None, None, None, None, None, None, None, None, None, None],\n",
       "       [None, None, None, None, None, None, None, None, None, None],\n",
       "       [None, None, None, None, None, None, None, None, None, None]], dtype=object)"
      ]
     },
     "execution_count": 17,
     "metadata": {},
     "output_type": "execute_result"
    }
   ],
   "source": [
    "step_system(w)\n",
    "w"
   ]
  },
  {
   "cell_type": "code",
   "execution_count": 18,
   "metadata": {
    "deletable": false,
    "nbgrader": {
     "checksum": "770b6a6bacc3948526ac069ce547b553",
     "grade": true,
     "grade_id": "fish_doc",
     "locked": false,
     "points": 5,
     "solution": true
    }
   },
   "outputs": [
    {
     "name": "stdout",
     "output_type": "stream",
     "text": [
      "move\n"
     ]
    },
    {
     "data": {
      "text/plain": [
       "array([[None, None, None, None, None, None, None, None, None, None],\n",
       "       [None, None, None, None, None, None, None, None, None, None],\n",
       "       [None, None, None, None, None, None, None, None, None, None],\n",
       "       [None, None, None, None, None, None, None, None, None, None],\n",
       "       [None, None, None, '🐻', None, '🌱', '🌱', None, None, None],\n",
       "       [None, None, None, None, '🌱', None, None, None, None, None],\n",
       "       [None, None, None, None, '🌱', '🌱', '🌱', None, None, None],\n",
       "       [None, None, None, None, None, None, None, None, None, None],\n",
       "       [None, None, None, None, None, None, None, None, None, None],\n",
       "       [None, None, None, None, None, None, None, None, None, None]], dtype=object)"
      ]
     },
     "execution_count": 18,
     "metadata": {},
     "output_type": "execute_result"
    }
   ],
   "source": [
    "step_system(w)\n",
    "w"
   ]
  },
  {
   "cell_type": "code",
   "execution_count": 19,
   "metadata": {},
   "outputs": [
    {
     "name": "stdout",
     "output_type": "stream",
     "text": [
      "move\n"
     ]
    },
    {
     "data": {
      "text/plain": [
       "array([[None, None, None, None, None, None, None, None, None, None],\n",
       "       [None, None, None, None, None, None, None, None, None, None],\n",
       "       [None, None, None, None, None, None, None, None, None, None],\n",
       "       [None, None, None, None, '🐻', None, None, None, None, None],\n",
       "       [None, None, None, None, None, '🌱', '🌱', None, None, None],\n",
       "       [None, None, None, None, '🌱', None, None, None, None, None],\n",
       "       [None, None, None, None, '🌱', '🌱', '🌱', None, None, None],\n",
       "       [None, None, None, None, None, None, None, None, None, None],\n",
       "       [None, None, None, None, None, None, None, None, None, None],\n",
       "       [None, None, None, None, None, None, None, None, None, None]], dtype=object)"
      ]
     },
     "execution_count": 19,
     "metadata": {},
     "output_type": "execute_result"
    }
   ],
   "source": [
    "step_system(w)\n",
    "w"
   ]
  },
  {
   "cell_type": "code",
   "execution_count": 20,
   "metadata": {
    "deletable": false,
    "nbgrader": {
     "checksum": "e370f19380738e8e035b8a3de3696caa",
     "grade": true,
     "grade_id": "fish",
     "locked": false,
     "points": 7,
     "solution": true
    }
   },
   "outputs": [
    {
     "name": "stdout",
     "output_type": "stream",
     "text": [
      "move\n"
     ]
    },
    {
     "data": {
      "text/plain": [
       "array([[None, None, None, None, None, None, None, None, None, None],\n",
       "       [None, None, None, None, None, None, None, None, None, None],\n",
       "       [None, None, None, '🐻', None, None, None, None, None, None],\n",
       "       [None, None, None, None, None, None, None, None, None, None],\n",
       "       [None, None, None, None, None, '🌱', '🌱', None, None, None],\n",
       "       [None, None, None, None, '🌱', None, None, None, None, None],\n",
       "       [None, None, None, None, '🌱', '🌱', '🌱', None, None, None],\n",
       "       [None, None, None, None, None, None, None, None, None, None],\n",
       "       [None, None, None, None, None, None, None, None, None, None],\n",
       "       [None, None, None, None, None, None, None, None, None, None]], dtype=object)"
      ]
     },
     "execution_count": 20,
     "metadata": {},
     "output_type": "execute_result"
    }
   ],
   "source": [
    "step_system(w)\n",
    "w"
   ]
  },
  {
   "cell_type": "code",
   "execution_count": 21,
   "metadata": {},
   "outputs": [
    {
     "name": "stdout",
     "output_type": "stream",
     "text": [
      "move\n"
     ]
    },
    {
     "data": {
      "text/plain": [
       "array([[None, None, None, None, None, None, None, None, None, None],\n",
       "       [None, None, None, None, None, None, None, None, None, None],\n",
       "       [None, None, None, None, None, None, None, None, None, None],\n",
       "       [None, None, None, '🐻', None, None, '🌱', None, None, None],\n",
       "       [None, None, None, None, '🌱', '🌱', '🌱', None, None, None],\n",
       "       [None, None, None, '🌱', '🌱', '🌱', None, None, None, None],\n",
       "       [None, None, None, None, '🌱', '🌱', '🌱', None, None, None],\n",
       "       [None, None, None, None, None, None, None, '🌱', None, None],\n",
       "       [None, None, None, None, None, None, None, None, None, None],\n",
       "       [None, None, None, None, None, None, None, None, None, None]], dtype=object)"
      ]
     },
     "execution_count": 21,
     "metadata": {},
     "output_type": "execute_result"
    }
   ],
   "source": [
    "step_system(w)\n",
    "w"
   ]
  },
  {
   "cell_type": "code",
   "execution_count": 22,
   "metadata": {},
   "outputs": [
    {
     "name": "stdout",
     "output_type": "stream",
     "text": [
      "move\n"
     ]
    },
    {
     "data": {
      "text/plain": [
       "array([[None, None, None, None, None, None, None, None, None, None],\n",
       "       [None, None, None, None, None, None, None, None, None, None],\n",
       "       [None, None, None, None, '🐻', None, None, None, None, None],\n",
       "       [None, None, None, None, None, None, '🌱', None, None, None],\n",
       "       [None, None, None, None, None, '🌱', '🌱', None, None, None],\n",
       "       [None, None, None, '🌱', None, None, None, None, None, None],\n",
       "       [None, None, None, None, '🌱', '🌱', '🌱', None, None, None],\n",
       "       [None, None, None, None, None, None, None, '🌱', None, None],\n",
       "       [None, None, None, None, None, None, None, None, None, None],\n",
       "       [None, None, None, None, None, None, None, None, None, None]], dtype=object)"
      ]
     },
     "execution_count": 22,
     "metadata": {},
     "output_type": "execute_result"
    }
   ],
   "source": [
    "step_system(w)\n",
    "w"
   ]
  },
  {
   "cell_type": "code",
   "execution_count": null,
   "metadata": {
    "collapsed": true
   },
   "outputs": [],
   "source": []
  },
  {
   "cell_type": "markdown",
   "metadata": {},
   "source": [
    "# AUTO-GRADER"
   ]
  },
  {
   "cell_type": "code",
   "execution_count": 30,
   "metadata": {
    "deletable": false,
    "nbgrader": {
     "checksum": "c32c52d57b358f858a8a11bc8345abc2",
     "grade": true,
     "grade_id": "fish_test_1",
     "locked": true,
     "points": 2,
     "solution": false
    }
   },
   "outputs": [],
   "source": [
    "# A new world has no objects\n",
    "w1 = World(5,5)\n",
    "assert len(w1.biota()) == 0\n",
    "\n",
    "# After adding a fish there should be one object\n",
    "f1 = Fish(w1, (2,2))\n",
    "assert len(w1.biota()) == 1\n",
    "\n",
    "# Test the location method\n",
    "assert f1.location() == (2,2)"
   ]
  },
  {
   "cell_type": "code",
   "execution_count": 31,
   "metadata": {
    "deletable": false,
    "nbgrader": {
     "checksum": "610108aff14c976d2ed17a3cd8d0fac9",
     "grade": true,
     "grade_id": "fish_test_2",
     "locked": true,
     "points": 2,
     "solution": false
    }
   },
   "outputs": [],
   "source": [
    "# Setting breed_interval to 1 should cause a fish to reproduce when live is called\n",
    "w2 = World(5,5)\n",
    "Fish.breed_interval = 1\n",
    "f2 = Fish(w2, (2,2))\n",
    "f2.live()\n",
    "assert len(w2.biota()) == 2\n",
    "\n",
    "# Reset the interval to original value for remaining tests\n",
    "Fish.breed_interval = 12"
   ]
  },
  {
   "cell_type": "code",
   "execution_count": 32,
   "metadata": {
    "deletable": false,
    "nbgrader": {
     "checksum": "1397054478e00a955967fa6aa32ee72c",
     "grade": true,
     "grade_id": "fish_test_3",
     "locked": true,
     "points": 2,
     "solution": false
    }
   },
   "outputs": [],
   "source": [
    "# Make three fish, the one in the middle should die from overcrowding\n",
    "w3 = World(5,5)\n",
    "f3 = Fish(w3, (2,2))\n",
    "Fish(w3, (1,1))\n",
    "Fish(w3, (3,3))\n",
    "f3.live()\n",
    "assert len(w2.biota()) == 2"
   ]
  },
  {
   "cell_type": "code",
   "execution_count": 33,
   "metadata": {
    "deletable": false,
    "nbgrader": {
     "checksum": "3e1ce3278dcd94d3f07d4701542b7df8",
     "grade": true,
     "grade_id": "fish_test_4",
     "locked": true,
     "points": 2,
     "solution": false
    }
   },
   "outputs": [
    {
     "name": "stdout",
     "output_type": "stream",
     "text": [
      "move\n"
     ]
    }
   ],
   "source": [
    "# When a fish moves it should be within one cell of its original location\n",
    "w4 = World(5,5)\n",
    "f4 = Fish(w4, (2,2))\n",
    "f4.move()\n",
    "r, c = f4.location()\n",
    "assert (r,c) != (2,2)\n",
    "assert abs(r-2) <= 1 and abs(c-2) <= 1"
   ]
  },
  {
   "cell_type": "markdown",
   "metadata": {
    "deletable": false,
    "nbgrader": {
     "checksum": "745360994a43da361e98fe01baa7f1c2",
     "grade": true,
     "grade_id": "bear_doc",
     "locked": false,
     "points": 3,
     "solution": true
    }
   },
   "source": [
    "# AUTO-GRADER"
   ]
  },
  {
   "cell_type": "code",
   "execution_count": 34,
   "metadata": {
    "deletable": false,
    "nbgrader": {
     "checksum": "02a09e90f9adc651f6c235e7b6d86f2b",
     "grade": true,
     "grade_id": "bear_test_1",
     "locked": true,
     "points": 2,
     "solution": false
    }
   },
   "outputs": [],
   "source": [
    "# Test the Bear constructor and location method\n",
    "w1 = World(5,5)\n",
    "b1 = Bear(w1, (1,1))\n",
    "assert len(w1.biota()) == 1\n",
    "assert b1.location() == (1,1)"
   ]
  },
  {
   "cell_type": "code",
   "execution_count": 35,
   "metadata": {
    "deletable": false,
    "nbgrader": {
     "checksum": "a93e64b15a61595e7c1320ed220d3f8f",
     "grade": true,
     "grade_id": "bear_test_2",
     "locked": true,
     "points": 2,
     "solution": false
    },
    "scrolled": true
   },
   "outputs": [
    {
     "name": "stdout",
     "output_type": "stream",
     "text": [
      "eat\n"
     ]
    },
    {
     "ename": "AssertionError",
     "evalue": "",
     "output_type": "error",
     "traceback": [
      "\u001b[0;31m---------------------------------------------------------------------------\u001b[0m",
      "\u001b[0;31mAssertionError\u001b[0m                            Traceback (most recent call last)",
      "\u001b[0;32m<ipython-input-35-edf0b5369889>\u001b[0m in \u001b[0;36m<module>\u001b[0;34m()\u001b[0m\n\u001b[1;32m      4\u001b[0m \u001b[0mb2\u001b[0m \u001b[0;34m=\u001b[0m \u001b[0mBear\u001b[0m\u001b[0;34m(\u001b[0m\u001b[0mw2\u001b[0m\u001b[0;34m,\u001b[0m \u001b[0;34m(\u001b[0m\u001b[0;36m2\u001b[0m\u001b[0;34m,\u001b[0m\u001b[0;36m2\u001b[0m\u001b[0;34m)\u001b[0m\u001b[0;34m)\u001b[0m\u001b[0;34m\u001b[0m\u001b[0m\n\u001b[1;32m      5\u001b[0m \u001b[0mb2\u001b[0m\u001b[0;34m.\u001b[0m\u001b[0mlive\u001b[0m\u001b[0;34m(\u001b[0m\u001b[0;34m)\u001b[0m\u001b[0;34m\u001b[0m\u001b[0m\n\u001b[0;32m----> 6\u001b[0;31m \u001b[0;32massert\u001b[0m \u001b[0mlen\u001b[0m\u001b[0;34m(\u001b[0m\u001b[0mw2\u001b[0m\u001b[0;34m.\u001b[0m\u001b[0mbiota\u001b[0m\u001b[0;34m(\u001b[0m\u001b[0;34m)\u001b[0m\u001b[0;34m)\u001b[0m \u001b[0;34m==\u001b[0m \u001b[0;36m2\u001b[0m\u001b[0;34m\u001b[0m\u001b[0m\n\u001b[0m\u001b[1;32m      7\u001b[0m \u001b[0mBear\u001b[0m\u001b[0;34m.\u001b[0m\u001b[0mbreed_interval\u001b[0m \u001b[0;34m=\u001b[0m \u001b[0;36m8\u001b[0m\u001b[0;34m\u001b[0m\u001b[0m\n",
      "\u001b[0;31mAssertionError\u001b[0m: "
     ]
    }
   ],
   "source": [
    "# Repeat the reproduction test for Bears\n",
    "w2 = World(5,5)\n",
    "Bear.breed_interval = 1\n",
    "b2 = Bear(w2, (2,2))\n",
    "b2.live()\n",
    "assert len(w2.biota()) == 2\n",
    "Bear.breed_interval = 8"
   ]
  },
  {
   "cell_type": "code",
   "execution_count": null,
   "metadata": {
    "deletable": false,
    "nbgrader": {
     "checksum": "9d958002c67155af5e43ba85a1b35fdc",
     "grade": true,
     "grade_id": "bear_test_3",
     "locked": true,
     "points": 2,
     "solution": false
    }
   },
   "outputs": [],
   "source": [
    "# Make fish for the bear to eat, count the number of objects after eating\n",
    "w3 = World(5,5)\n",
    "b3 = Bear(w3, (2,2))\n",
    "Fish(w3, (1,1))\n",
    "Fish(w3, (3,3))\n",
    "b3.live()\n",
    "assert len(w2.biota()) == 2"
   ]
  },
  {
   "cell_type": "code",
   "execution_count": 36,
   "metadata": {
    "deletable": false,
    "nbgrader": {
     "checksum": "0fedaf56b553ec43860c883ddf1cf6bb",
     "grade": true,
     "grade_id": "bear_test_4",
     "locked": true,
     "points": 2,
     "solution": false
    }
   },
   "outputs": [
    {
     "name": "stdout",
     "output_type": "stream",
     "text": [
      "eat\n"
     ]
    },
    {
     "ename": "AssertionError",
     "evalue": "",
     "output_type": "error",
     "traceback": [
      "\u001b[0;31m---------------------------------------------------------------------------\u001b[0m",
      "\u001b[0;31mAssertionError\u001b[0m                            Traceback (most recent call last)",
      "\u001b[0;32m<ipython-input-36-22a43f96fcb0>\u001b[0m in \u001b[0;36m<module>\u001b[0;34m()\u001b[0m\n\u001b[1;32m      4\u001b[0m \u001b[0mb4\u001b[0m \u001b[0;34m=\u001b[0m \u001b[0mBear\u001b[0m\u001b[0;34m(\u001b[0m\u001b[0mw4\u001b[0m\u001b[0;34m,\u001b[0m \u001b[0;34m(\u001b[0m\u001b[0;36m2\u001b[0m\u001b[0;34m,\u001b[0m\u001b[0;36m2\u001b[0m\u001b[0;34m)\u001b[0m\u001b[0;34m)\u001b[0m\u001b[0;34m\u001b[0m\u001b[0m\n\u001b[1;32m      5\u001b[0m \u001b[0mb4\u001b[0m\u001b[0;34m.\u001b[0m\u001b[0mlive\u001b[0m\u001b[0;34m(\u001b[0m\u001b[0;34m)\u001b[0m\u001b[0;34m\u001b[0m\u001b[0m\n\u001b[0;32m----> 6\u001b[0;31m \u001b[0;32massert\u001b[0m \u001b[0mlen\u001b[0m\u001b[0;34m(\u001b[0m\u001b[0mw4\u001b[0m\u001b[0;34m.\u001b[0m\u001b[0mbiota\u001b[0m\u001b[0;34m(\u001b[0m\u001b[0;34m)\u001b[0m\u001b[0;34m)\u001b[0m \u001b[0;34m==\u001b[0m \u001b[0;36m0\u001b[0m\u001b[0;34m\u001b[0m\u001b[0m\n\u001b[0m",
      "\u001b[0;31mAssertionError\u001b[0m: "
     ]
    }
   ],
   "source": [
    "# Setting the survival limit to 1 should cause a Bear to starve \n",
    "w4 = World(5,5)\n",
    "Bear.survive_without_food = 1\n",
    "b4 = Bear(w4, (2,2))\n",
    "b4.live()\n",
    "assert len(w4.biota()) == 0"
   ]
  },
  {
   "cell_type": "code",
   "execution_count": 37,
   "metadata": {
    "deletable": false,
    "nbgrader": {
     "checksum": "74f0e9c757408b2f460fd4c45b260cbe",
     "grade": true,
     "grade_id": "bear_test_5",
     "locked": true,
     "points": 2,
     "solution": false
    }
   },
   "outputs": [
    {
     "name": "stdout",
     "output_type": "stream",
     "text": [
      "move\n"
     ]
    }
   ],
   "source": [
    "# Repeat the move test for bears\n",
    "w5 = World(5,5)\n",
    "b5 = Bear(w5, (2,2))\n",
    "b5.move()\n",
    "r, c = b5.location()\n",
    "assert (r,c) != (2,2)\n",
    "assert abs(r-2) <= 1 and abs(c-2) <= 1"
   ]
  },
  {
   "cell_type": "code",
   "execution_count": 38,
   "metadata": {
    "deletable": false,
    "nbgrader": {
     "checksum": "492deed158bde5b6474970e982aa60fe",
     "grade": true,
     "grade_id": "wbf_test",
     "locked": true,
     "points": 5,
     "solution": false
    }
   },
   "outputs": [],
   "source": [
    "w = wbf(10,10,3,12)\n",
    "\n",
    "dct = { Bear: 0, Fish: 0 }\n",
    "for x in w.biota():\n",
    "    dct[x.__class__] += 1\n",
    "\n",
    "assert dct[Bear] == 3\n",
    "assert dct[Fish] == 12"
   ]
  },
  {
   "cell_type": "code",
   "execution_count": null,
   "metadata": {
    "collapsed": true,
    "deletable": false,
    "nbgrader": {
     "checksum": "cc54d46b405cd1c694c7a930f2ede888",
     "grade": true,
     "grade_id": "experiments",
     "locked": false,
     "points": 10,
     "solution": true
    }
   },
   "outputs": [],
   "source": []
  }
 ],
 "metadata": {
  "anaconda-cloud": {},
  "kernelspec": {
   "display_name": "Python [default]",
   "language": "python",
   "name": "python3"
  },
  "language_info": {
   "codemirror_mode": {
    "name": "ipython",
    "version": 3
   },
   "file_extension": ".py",
   "mimetype": "text/x-python",
   "name": "python",
   "nbconvert_exporter": "python",
   "pygments_lexer": "ipython3",
   "version": "3.5.2"
  }
 },
 "nbformat": 4,
 "nbformat_minor": 1
}
