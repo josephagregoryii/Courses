{
 "cells": [
  {
   "cell_type": "markdown",
   "metadata": {},
   "source": [
    "# <span style=\"color:teal;\">CIS 211 Project 1:  Hello, World</span>"
   ]
  },
  {
   "cell_type": "markdown",
   "metadata": {},
   "source": [
    "##### Due 11:00 P.M. January 13, 2017"
   ]
  },
  {
   "cell_type": "markdown",
   "metadata": {},
   "source": [
    "##### Reading:  none"
   ]
  },
  {
   "cell_type": "markdown",
   "metadata": {
    "collapsed": true
   },
   "source": [
    "## Instructions"
   ]
  },
  {
   "cell_type": "markdown",
   "metadata": {},
   "source": [
    "This goal for this project is to work through the process for completing projects in CIS 211 this term:\n",
    "* download a project description from Canvas, save it in a local `.ipynb` file\n",
    "* open the file with Jupyter\n",
    "* read the project description(s)\n",
    "* add code and documentation to the notebook\n",
    "* test your code\n",
    "* ~~e-mail the completed notebook to `cis211-project@cs.uoregon.edu`~~\n",
    "* <span style=color:red>**upload the completed notebook to Canvas**</span>\n"
   ]
  },
  {
   "cell_type": "markdown",
   "metadata": {},
   "source": [
    "##### Important Cells in Project Notebooks"
   ]
  },
  {
   "cell_type": "markdown",
   "metadata": {},
   "source": [
    "The notebooks you download from Canvas will have specially tagged cells where you should write your code and documentation.  These cells will be read by a program that automatically loads your program and runs a set of unit tests.  The (human) graders will review the output of the auto-grader and review your code and documentation.\n",
    "\n",
    "There are three kinds of specially tagged cells:\n",
    "1. code cells you fill in with your solution\n",
    "1. code cells with unit tests the autograder will execute to test your code\n",
    "1. markdown cells where you write your documentation\n",
    "\n",
    "The specially tagged cells are immediately below red headlines that say **Code** or **Auto-Grader Unit Tests** or **Documentation**.  \n",
    "\n",
    "**<span style=\"color:red\">Important!! &nbsp; Do not delete or move the specially tagged cells.</span>** \n",
    "\n",
    "You can add additional cells to the notebook, _e.g._ if you want to write helper functions or write your own tests. But if you delete one of the specially tagged cells you risk losing points if the auto-grader can't find and run all the tests. "
   ]
  },
  {
   "cell_type": "markdown",
   "metadata": {},
   "source": [
    "##### Code Cells "
   ]
  },
  {
   "cell_type": "markdown",
   "metadata": {},
   "source": [
    "To complete the project find code cells that say `YOUR CODE HERE` followd by `pass` (the keyword `pass` is a Python statement that doesn't do anything).\n",
    "\n",
    "Erase the placeholder text and replace it with your solution."
   ]
  },
  {
   "cell_type": "markdown",
   "metadata": {},
   "source": [
    "##### Unit Tests "
   ]
  },
  {
   "cell_type": "markdown",
   "metadata": {},
   "source": [
    "The code cells containing unit tests will be executed by the auto-grader.  You can execute these cells yourself to test your code.  \n",
    "\n",
    "While you are developing your program you might find it useful to add additional code cells, _e.g._ for helper functions or for your own tests.  We suggest you add these cells close to the code cells containing your solution and leave the section with auto-grader unit tests as is."
   ]
  },
  {
   "cell_type": "markdown",
   "metadata": {},
   "source": [
    "##### Markdown Cell for Documentation"
   ]
  },
  {
   "cell_type": "markdown",
   "metadata": {},
   "source": [
    "Most projects will also have a place for you to explain what you did for a project.  Look for a markdown cell with the placeholder prhase `YOUR DOCUMENTATION HERE` below the heading **Documentation**.  Replace the placeholder with a short description of how you solved the project.  \n",
    "\n",
    "This is a place where you can point out anything interesting you want the graders to notice.  For example, if you came up with a neat way to avoid `if` statements in your `hello` function explain it in the documentation cell."
   ]
  },
  {
   "cell_type": "markdown",
   "metadata": {},
   "source": [
    "##  <span style=\"color:teal\">The `hello` Function</span>"
   ]
  },
  {
   "cell_type": "markdown",
   "metadata": {},
   "source": [
    "Write a function named `hello` that will take a language name passed as a string argument and return a \"hello, world\" greeting in that language.\n",
    "\n",
    "Examples:\n",
    "<pre>\n",
    ">>> hello('english')\n",
    "'Hello, World!'\n",
    "\n",
    ">>> hello('french')\n",
    "'Bonjour, tout le monde!'\n",
    "\n",
    ">>> hello('arabic')\n",
    "'مرحبا يا عالم'\n",
    "</pre>\n",
    "\n",
    "Your function should be able to return a greeting in at least two languages -- English and French -- but you can have as many as you would like.\n",
    "\n",
    "The strings to return for English and French are shown in the tests below.  Make sure you return these strings exactly as shown so your program passes the unit tests.\n",
    "\n",
    "If the language passed as an argument is not one of the languages you implemented return None.\n",
    "<pre>\n",
    ">>> hello('valyrian')\n",
    "</pre>"
   ]
  },
  {
   "cell_type": "markdown",
   "metadata": {},
   "source": [
    "##### Style Points:"
   ]
  },
  {
   "cell_type": "markdown",
   "metadata": {},
   "source": [
    "(1) Try to write your program without using a bunch of `if-elif` cases. This is <span style=\"color:red\"> not</span> a good way to structure the code in the body of your `hello` function:\n",
    "<pre>\n",
    "if lang == 'english':                   # bad style\n",
    "    reply = 'Hello, World!'\n",
    "elif lang == 'french':                  # ick\n",
    "    reply = 'Bonjour, tout le monde!'\n",
    "elif:                                   # ugh\n",
    "    ...\n",
    "</pre>\n",
    "\n",
    "(2) How do you want to handle situations where users pass a capitalized language name?  Do you want your function to return values for `hello(\"english\")` and `hello(\"English\")`?"
   ]
  },
  {
   "cell_type": "markdown",
   "metadata": {},
   "source": [
    "##### <span style=\"color:red\">Code</span>"
   ]
  },
  {
   "cell_type": "code",
   "execution_count": 18,
   "metadata": {
    "collapsed": true,
    "deletable": false,
    "nbgrader": {
     "checksum": "e0ef99a170fedc25464b572458ea7f65",
     "grade": true,
     "grade_id": "code",
     "locked": false,
     "points": 50,
     "solution": true
    }
   },
   "outputs": [],
   "source": [
    "def hello(lang):\n",
    "        switch = {'english' : \"Hello, World!\", 'french' : \"Bonjour, tout le monde!\"}\n",
    "        return switch.get(lang, None)\n",
    "    \n",
    "pass"
   ]
  },
  {
   "cell_type": "markdown",
   "metadata": {
    "collapsed": true
   },
   "source": [
    "##### <span style=\"color:red\">Auto-Grader Unit Tests</span>"
   ]
  },
  {
   "cell_type": "code",
   "execution_count": 19,
   "metadata": {
    "collapsed": false,
    "deletable": false,
    "nbgrader": {
     "checksum": "152419e4786c3d06a09439f658d4a3c5",
     "grade": true,
     "grade_id": "english",
     "locked": true,
     "points": 10,
     "solution": false
    }
   },
   "outputs": [],
   "source": [
    "assert hello('english') == 'Hello, World!'"
   ]
  },
  {
   "cell_type": "code",
   "execution_count": 20,
   "metadata": {
    "collapsed": false,
    "deletable": false,
    "nbgrader": {
     "checksum": "033873513e329b84275ccd10416612e4",
     "grade": true,
     "grade_id": "french",
     "locked": true,
     "points": 10,
     "solution": false
    }
   },
   "outputs": [],
   "source": [
    "assert hello('french') == 'Bonjour, tout le monde!'"
   ]
  },
  {
   "cell_type": "code",
   "execution_count": 21,
   "metadata": {
    "collapsed": true,
    "deletable": false,
    "nbgrader": {
     "checksum": "67392ed32a0b00b361923b83dcfaa2d1",
     "grade": true,
     "grade_id": "klingon",
     "locked": true,
     "points": 10,
     "solution": false
    }
   },
   "outputs": [],
   "source": [
    "assert hello('klingon') is None"
   ]
  },
  {
   "cell_type": "markdown",
   "metadata": {},
   "source": [
    "##### <span style=\"color:red\">Documentation</span>"
   ]
  },
  {
   "cell_type": "markdown",
   "metadata": {
    "deletable": false,
    "nbgrader": {
     "checksum": "889ef37b3a787de575b2a7acbe9a8fdc",
     "grade": true,
     "grade_id": "doc",
     "locked": false,
     "points": 20,
     "solution": true
    }
   },
   "source": [
    "YOUR DOCUMENTATION HERE"
   ]
  }
 ],
 "metadata": {
  "anaconda-cloud": {},
  "celltoolbar": "Create Assignment",
  "kernelspec": {
   "display_name": "Python [default]",
   "language": "python",
   "name": "python3"
  },
  "language_info": {
   "codemirror_mode": {
    "name": "ipython",
    "version": 3
   },
   "file_extension": ".py",
   "mimetype": "text/x-python",
   "name": "python",
   "nbconvert_exporter": "python",
   "pygments_lexer": "ipython3",
   "version": "3.5.2"
  }
 },
 "nbformat": 4,
 "nbformat_minor": 0
}
