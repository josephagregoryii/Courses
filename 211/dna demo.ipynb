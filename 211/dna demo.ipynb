{
 "cells": [
  {
   "cell_type": "markdown",
   "metadata": {},
   "source": [
    "# <span style=\"color:teal;\">CIS 211 Live Coding Exercise</span>"
   ]
  },
  {
   "cell_type": "markdown",
   "metadata": {},
   "source": [
    "* demonstrate classes and inheritance\n",
    "* discuss testing and debugging strategies"
   ]
  },
  {
   "cell_type": "markdown",
   "metadata": {},
   "source": [
    "###  <span style=\"color:teal\">Background</span>"
   ]
  },
  {
   "cell_type": "markdown",
   "metadata": {},
   "source": [
    "Cells in animals and plants have **chromosomes** that carry genetic information\n",
    "\n",
    "Chromosomes are long strands of DNA.  If we zoom in close enough to see the double-helix structure we'll see there are four different kinds of molecules (sometimes called **bases**) connecting the strands\n",
    "* adenine\n",
    "* cytosine\n",
    "* guanine\n",
    "* thymine\n",
    "\n",
    "A base on one strand is always paired with its **complement** on the other strand\n",
    "\n",
    "$$\n",
    "\\mathtt{A} \\Longleftrightarrow \\mathtt{T}\n",
    "$$\n",
    "\n",
    "$$\n",
    "\\mathtt{C} \\Longleftrightarrow \\mathtt{G}\n",
    "$$"
   ]
  },
  {
   "cell_type": "markdown",
   "metadata": {},
   "source": [
    "![dna](http://pages.uoregon.edu/conery/CIS211/Inheritance/chromosome_lg.jpg)"
   ]
  },
  {
   "cell_type": "markdown",
   "metadata": {},
   "source": [
    "In bioinformatics, we represent strands of DNA by strings containing just four letters\n",
    "* `A` = adenine\n",
    "* `C` = cytosine\n",
    "* `G` = guanine\n",
    "* `T` = thymine"
   ]
  },
  {
   "cell_type": "markdown",
   "metadata": {},
   "source": [
    "![dna](http://pages.uoregon.edu/conery/CIS211/Inheritance/transcription_lg.jpg)"
   ]
  },
  {
   "cell_type": "markdown",
   "metadata": {},
   "source": [
    "A **gene** is a short segment of DNA\n",
    "* the part of the chromosome that contains a gene is a **coding sequence**\n",
    "\n",
    "A complex process call **transcription** copies the information in a coding sequence\n",
    "* the transcripts are used by the cell to manufacture proteins used throughout the body"
   ]
  },
  {
   "cell_type": "markdown",
   "metadata": {},
   "source": [
    "###  <span style=\"color:teal\">Part 1: &nbsp; DNA Class</span>"
   ]
  },
  {
   "cell_type": "markdown",
   "metadata": {},
   "source": [
    "Define a class named DNA that will represent a DNA sequence.  Each DNA object should have two attributes:  a name and the sequence letters, both of which will be passed to the constructor.\n",
    "\n",
    "The class should have two \"getters\" called `name` and `chars` that return the sequence name and sequence letters.  The representation string should show the sequence using a format called FASTA:  a greater-than sign and the name on the first line, and the sequence characters on the second line:\n",
    "```\n",
    ">>> s = DNA('tiny sequence', 'ACGTTGCA'); print(s)\n",
    "```\n",
    "should produce\n",
    "```\n",
    "> tiny sequence\n",
    "ACGTTGCA\n",
    "```\n",
    "\n",
    "There should be a method named `splice` that removes part of the sequence. A call of the form\n",
    "```\n",
    ">>> s.splice(i,j)\n",
    "```\n",
    "should remove the bases at locations `i` through `j`-1 from `s`.\n",
    "\n",
    "Finally, write a method named `revcomp` that creates the \"reverse complement\" of a sequence.  If we call\n",
    "```\n",
    ">>> s.revcomp()\n",
    "```\n",
    "we should get back a new DNA object.  The name of the new object will be the name of `s` but with `_rc` appended.  To make the sequence characters in the new object reverse the order of the characters in `s` and replace each character with its complement.  For example, the reverse complement of `AATC` is `GATT`.\n",
    "\n",
    "**Extra Credit** &nbsp; Give DNA sequences many of the same operations defined for lists and strings.  For example, if `s` is a DNA object, users should be able to\n",
    "* access individual letters using the index operator, _e.g._ `s[0]`, `s[-1]`\n",
    "* get a subsequence using a slice operator:  `s[i:j]` (which should return a string)\n",
    "* add characters using `s.insert` or `s.append`\n",
    "* delete characters using `del` or `s.remove`"
   ]
  },
  {
   "cell_type": "markdown",
   "metadata": {},
   "source": [
    "##### <span style=\"color:red\">Code:</span>"
   ]
  },
  {
   "cell_type": "code",
   "execution_count": null,
   "metadata": {
    "collapsed": false,
    "deletable": false,
    "nbgrader": {
     "checksum": "882655def78517e839ad0ae1c7be3258",
     "grade": true,
     "grade_id": "DNA",
     "locked": false,
     "points": 10,
     "solution": true
    }
   },
   "outputs": [],
   "source": [
    "class DNA(list):\n",
    "    # YOUR CODE HERE\n",
    "    raise NotImplementedError()\n",
    "    "
   ]
  },
  {
   "cell_type": "markdown",
   "metadata": {},
   "source": [
    "##### <span style=\"color:red\">Tests:</span>"
   ]
  },
  {
   "cell_type": "markdown",
   "metadata": {},
   "source": [
    "Use the following code cell as a \"sandbox\" if you want to do your own tests. You can add additional cells here if you want."
   ]
  },
  {
   "cell_type": "code",
   "execution_count": null,
   "metadata": {
    "collapsed": true
   },
   "outputs": [],
   "source": []
  },
  {
   "cell_type": "markdown",
   "metadata": {},
   "source": [
    "##### <span style=\"color:red\">Autograder Test Cells:</span>"
   ]
  },
  {
   "cell_type": "code",
   "execution_count": null,
   "metadata": {
    "collapsed": false,
    "deletable": false,
    "nbgrader": {
     "checksum": "898a427f28d1e49a0354dd45a70dd0a8",
     "grade": true,
     "grade_id": "dna_test_1",
     "locked": true,
     "points": 5,
     "solution": false
    }
   },
   "outputs": [],
   "source": [
    "s1 = DNA('test1', 'GATTACA')\n",
    "assert isinstance(s1,DNA)\n",
    "assert s1.name() == 'test1'\n",
    "assert s1.chars() == 'GATTACA'\n",
    "assert repr(s1) == '> test1\\nGATTACA'"
   ]
  },
  {
   "cell_type": "code",
   "execution_count": null,
   "metadata": {
    "collapsed": true,
    "deletable": false,
    "nbgrader": {
     "checksum": "0821bc3b35ab12cc3fdcfa340d17d404",
     "grade": true,
     "grade_id": "dna_test_2",
     "locked": true,
     "points": 5,
     "solution": false
    }
   },
   "outputs": [],
   "source": [
    "s2 = DNA('test2', 'AAAGGGGAAA')\n",
    "s2.splice(3,7)\n",
    "assert len(s2.chars()) == 6"
   ]
  },
  {
   "cell_type": "code",
   "execution_count": null,
   "metadata": {
    "collapsed": true,
    "deletable": false,
    "nbgrader": {
     "checksum": "8ba97a038e2e1714353354330c6a1fe5",
     "grade": true,
     "grade_id": "dna_test_3",
     "locked": true,
     "points": 5,
     "solution": false
    }
   },
   "outputs": [],
   "source": [
    "s3 = DNA('test3', 'ACCGGGTTTT')\n",
    "s4 = s3.revcomp()\n",
    "assert isinstance(s4,DNA)\n",
    "assert s4.name() == 'test3_rc'\n",
    "assert s4.chars() == 'AAAACCCGGT'"
   ]
  },
  {
   "cell_type": "code",
   "execution_count": null,
   "metadata": {
    "collapsed": false,
    "deletable": false,
    "nbgrader": {
     "checksum": "5fff4e8fb863e062b635c34231db364e",
     "grade": true,
     "grade_id": "xc_1",
     "locked": true,
     "points": 1,
     "solution": false
    }
   },
   "outputs": [],
   "source": [
    "s4 = DNA('x1', 'TACTGCCTAGT')\n",
    "assert len(s4) == 11\n",
    "assert s4[0] == 'T'\n",
    "assert s4[4:7] == 'GCC'"
   ]
  },
  {
   "cell_type": "code",
   "execution_count": null,
   "metadata": {
    "collapsed": false,
    "deletable": false,
    "nbgrader": {
     "checksum": "20be2bb5707be36d535cd9806a1a7bf8",
     "grade": true,
     "grade_id": "xc_2",
     "locked": true,
     "points": 1,
     "solution": false
    }
   },
   "outputs": [],
   "source": [
    "s5 = DNA('x2', 'AAA')\n",
    "s5.append('TTT')\n",
    "assert s5.chars() == 'AAATTT'\n",
    "s5.insert(3,'CCC')\n",
    "assert s5.chars() == 'AAACCCTTT'"
   ]
  },
  {
   "cell_type": "markdown",
   "metadata": {},
   "source": [
    "###  <span style=\"color:teal\">Part 2: &nbsp; CDS Class</span>"
   ]
  },
  {
   "cell_type": "markdown",
   "metadata": {},
   "source": [
    "Define a new class called CDS (for \"coding sequence\").  A coding sequence is a strand of DNA the carries codes that will be translated into protein sequences.  These codes are 3-base sequences called **codons**.\n",
    "\n",
    "CDS sequences will be created just like DNA sequences, by passing a name and sequence letters to the constructor.  CDS objects should support all the operations defined for DNA (`name`, `chars`, `splice`, and `revcomp`).\n",
    "\n",
    "The class should also have a method named `codons`.  If `s` is a CDS, a call to `s.codons()` should return the list of 3-letter substrings of `s`.  If the length of the coding sequence is not divisible by 3 just return the leftover characters in the last substring.  Example:\n",
    "```\n",
    ">>> c1 = CDS('cds1', 'GATTACA')\n",
    ">>> c1.codons()\n",
    "['GAT', 'TAC', 'A']\n",
    "```"
   ]
  },
  {
   "cell_type": "markdown",
   "metadata": {},
   "source": [
    "##### <span style=\"color:red\">Code:</span>"
   ]
  },
  {
   "cell_type": "code",
   "execution_count": null,
   "metadata": {
    "collapsed": true,
    "deletable": false,
    "nbgrader": {
     "checksum": "7d1240ff23c51edd2e3309c3d8bc76ca",
     "grade": true,
     "grade_id": "CDS",
     "locked": false,
     "points": 10,
     "solution": true
    }
   },
   "outputs": [],
   "source": [
    "# YOUR CODE HERE\n",
    "raise NotImplementedError()"
   ]
  },
  {
   "cell_type": "markdown",
   "metadata": {},
   "source": [
    "##### <span style=\"color:red\">Tests:</span>"
   ]
  },
  {
   "cell_type": "markdown",
   "metadata": {},
   "source": [
    "Use the following code cell as a \"sandbox\" if you want to do your own tests. You can add additional cells here if you want."
   ]
  },
  {
   "cell_type": "code",
   "execution_count": null,
   "metadata": {
    "collapsed": true
   },
   "outputs": [],
   "source": []
  },
  {
   "cell_type": "markdown",
   "metadata": {},
   "source": [
    "##### <span style=\"color:red\">Autograder Test Cells:</span>"
   ]
  },
  {
   "cell_type": "code",
   "execution_count": null,
   "metadata": {
    "collapsed": false,
    "deletable": false,
    "nbgrader": {
     "checksum": "f2ff071f1118a4812c94bc7ed649946a",
     "grade": true,
     "grade_id": "cds_test_1",
     "locked": true,
     "points": 5,
     "solution": false
    }
   },
   "outputs": [],
   "source": [
    "c1 = CDS('cds1', 'AACCGGTT')\n",
    "assert isinstance(c1,CDS)\n",
    "assert isinstance(c1,DNA)\n",
    "assert c1.name() == 'cds1'\n",
    "assert c1.chars() == 'AACCGGTT'"
   ]
  },
  {
   "cell_type": "code",
   "execution_count": null,
   "metadata": {
    "collapsed": false,
    "deletable": false,
    "nbgrader": {
     "checksum": "0285c8b0b3993a840d02f34b743893cc",
     "grade": true,
     "grade_id": "cds_test_2",
     "locked": true,
     "points": 5,
     "solution": false
    }
   },
   "outputs": [],
   "source": [
    "c2 = CDS('cds2', 'ATGACGTAA')\n",
    "assert c2.codons() == ['ATG', 'ACG', 'TAA']"
   ]
  },
  {
   "cell_type": "code",
   "execution_count": null,
   "metadata": {
    "collapsed": false,
    "deletable": false,
    "nbgrader": {
     "checksum": "c6aa5f3065c72f5c74c8b7accf95658b",
     "grade": true,
     "grade_id": "cds_test_3",
     "locked": true,
     "points": 5,
     "solution": false
    }
   },
   "outputs": [],
   "source": [
    "c3 = CDS('cds3', 'GATTACA')\n",
    "assert c3.codons() == ['GAT', 'TAC', 'A']"
   ]
  },
  {
   "cell_type": "code",
   "execution_count": null,
   "metadata": {
    "collapsed": true
   },
   "outputs": [],
   "source": []
  }
 ],
 "metadata": {
  "kernelspec": {
   "display_name": "Python 3",
   "language": "python",
   "name": "python3"
  },
  "language_info": {
   "codemirror_mode": {
    "name": "ipython",
    "version": 3
   },
   "file_extension": ".py",
   "mimetype": "text/x-python",
   "name": "python",
   "nbconvert_exporter": "python",
   "pygments_lexer": "ipython3",
   "version": "3.5.1"
  }
 },
 "nbformat": 4,
 "nbformat_minor": 0
}
